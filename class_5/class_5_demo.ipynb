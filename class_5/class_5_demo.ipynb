{
 "cells": [
  {
   "cell_type": "code",
   "execution_count": 1,
   "metadata": {
    "collapsed": false
   },
   "outputs": [
    {
     "name": "stdout",
     "output_type": "stream",
     "text": [
      "sleep\n"
     ]
    }
   ],
   "source": [
    "from selenium import webdriver\n",
    "import time\n",
    "\n",
    "driver = webdriver.Chrome('/home/mihaly/R_codes/web_scraping/class_5/chromedriver')\n",
    "driver.get(\"https://www.hasznaltauto.hu/\")\n",
    "print('sleep')\n",
    "time.sleep(10)\n",
    "driver.close()"
   ]
  },
  {
   "cell_type": "code",
   "execution_count": null,
   "metadata": {
    "collapsed": true
   },
   "outputs": [],
   "source": []
  },
  {
   "cell_type": "code",
   "execution_count": 2,
   "metadata": {
    "collapsed": false,
    "scrolled": true
   },
   "outputs": [
    {
     "name": "stdout",
     "output_type": "stream",
     "text": [
      "sleep\n",
      "I am ready\n"
     ]
    }
   ],
   "source": [
    "\n",
    "from selenium import webdriver\n",
    "import time\n",
    "\n",
    "driver = webdriver.Chrome('/home/mihaly/R_codes/web_scraping/class_5/chromedriver')\n",
    "driver.get(\"https://www.economist.com/finance-and-economics/\")\n",
    "print('sleep')\n",
    "time.sleep(10)\n",
    "\n",
    "for i in range(1,5):\n",
    "    driver.find_element_by_css_selector(\".ds-pagination__nav--next\").click()\n",
    "    page = driver.page_source\n",
    "    my_file = open('data_html/page_'+str(i)+'.html', 'w')\n",
    "    my_file.write(page)\n",
    "    my_file.close()\n",
    "    \n",
    "    time.sleep(10)\n",
    "driver.close()\n",
    "\n",
    "print('I am ready')\n"
   ]
  },
  {
   "cell_type": "code",
   "execution_count": 4,
   "metadata": {
    "collapsed": false
   },
   "outputs": [
    {
     "data": {
      "text/plain": [
       "[1, 2, 3, 4]"
      ]
     },
     "execution_count": 4,
     "metadata": {},
     "output_type": "execute_result"
    }
   ],
   "source": [
    "list(range(1,5))\n"
   ]
  },
  {
   "cell_type": "code",
   "execution_count": 5,
   "metadata": {
    "collapsed": false
   },
   "outputs": [
    {
     "name": "stdout",
     "output_type": "stream",
     "text": [
      "sleep\n",
      "I am ready\n"
     ]
    }
   ],
   "source": [
    "from selenium import webdriver\n",
    "import time\n",
    "from selenium.webdriver.common.keys import Keys\n",
    "driver = webdriver.Chrome('/home/mihaly/R_codes/web_scraping/class_5/chromedriver')\n",
    "driver.get(\"https://futurism.com/\")\n",
    "print('sleep')\n",
    "time.sleep(10)\n",
    "driver.execute_script(\"window.scrollTo(0, 1000)\")\n",
    "\n",
    "\n",
    "\n",
    "for i in range(1,5):\n",
    "    html = driver.find_element_by_tag_name('html')\n",
    "    html.send_keys(Keys.END)    \n",
    "    time.sleep(2)\n",
    "\n",
    "time.sleep(10)\n",
    "driver.close()\n",
    "\n",
    "print('I am ready')\n",
    "\n"
   ]
  },
  {
   "cell_type": "code",
   "execution_count": 11,
   "metadata": {
    "collapsed": false
   },
   "outputs": [],
   "source": [
    "#linkedin\n",
    "from selenium import webdriver\n",
    "import time\n",
    "from selenium.webdriver.common.keys import Keys\n",
    "\n",
    "start_url = \"https://www.linkedin.com\"\n",
    "driver = webdriver.Chrome('/home/mihaly/R_codes/web_scraping/class_5/chromedriver')\n",
    "\n",
    "driver.get(start_url)\n",
    "time.sleep(10)\n",
    "driver.find_element_by_name(\"session_key\").send_keys(\"ormraat.pte@gmail.com\")\n",
    "#driver.find_element_by_name(\"session_password\").send_keys(\"\")\n",
    "\n",
    "time.sleep(15)\n",
    "\n",
    "driver.find_element_by_css_selector(\".sign-in-form__submit-button\").click()\n",
    "#.sign-in-form__submit-button"
   ]
  },
  {
   "cell_type": "code",
   "execution_count": 13,
   "metadata": {
    "collapsed": true
   },
   "outputs": [],
   "source": [
    "from selenium import webdriver\n",
    "import time\n",
    "from selenium.webdriver.common.keys import Keys\n",
    "\n",
    "start_url = \"https://www.linkedin.com\"\n",
    "driver = webdriver.Chrome('/home/mihaly/R_codes/web_scraping/class_5/chromedriver')\n"
   ]
  },
  {
   "cell_type": "code",
   "execution_count": 8,
   "metadata": {
    "collapsed": true
   },
   "outputs": [],
   "source": [
    "driver.get(start_url)\n"
   ]
  },
  {
   "cell_type": "code",
   "execution_count": 9,
   "metadata": {
    "collapsed": true
   },
   "outputs": [],
   "source": [
    "driver.find_element_by_name(\"session_key\").send_keys(\"ormraat.pte@gmail.com\")\n"
   ]
  },
  {
   "cell_type": "code",
   "execution_count": 24,
   "metadata": {
    "collapsed": true
   },
   "outputs": [],
   "source": [
    "page = driver.page_source\n",
    "my_file = open('linkedin'+'.html', 'w')\n",
    "my_file.write(page)\n",
    "my_file.close()"
   ]
  },
  {
   "cell_type": "code",
   "execution_count": null,
   "metadata": {
    "collapsed": true
   },
   "outputs": [],
   "source": []
  },
  {
   "cell_type": "code",
   "execution_count": null,
   "metadata": {
    "collapsed": true
   },
   "outputs": [],
   "source": []
  },
  {
   "cell_type": "code",
   "execution_count": 12,
   "metadata": {
    "collapsed": false
   },
   "outputs": [
    {
     "data": {
      "text/plain": [
       "<Display cmd_param=['Xvfb', '-br', '-nolisten', 'tcp', '-screen', '0', '1920x1080x24', ':1028'] cmd=['Xvfb', '-br', '-nolisten', 'tcp', '-screen', '0', '1920x1080x24', ':1028'] oserror=None return_code=0 stdout=\"\" stderr=\"\" timeout_happened=False>"
      ]
     },
     "execution_count": 12,
     "metadata": {},
     "output_type": "execute_result"
    }
   ],
   "source": [
    "import time\n",
    "from pyvirtualdisplay import Display\n",
    "display = Display(visible=0, size=(1920, 1080)).start()\n",
    "from selenium import webdriver\n",
    "driver = webdriver.Chrome('/home/mihaly/R_codes/web_scraping/class_5/chromedriver')\n",
    "\n",
    "\n",
    "driver.get(\"https://www.bbc.com/\")\n",
    "time.sleep(15)\n",
    "\n",
    "page = driver.page_source\n",
    "\n",
    "file = open(\"/home/mihaly/R_codes/webscraping_2020_demo/headlessbbc.html\",'w',encoding='utf-8')\n",
    "file.write(page)\n",
    "file.close()\n",
    "driver.close()\n",
    "display.stop()"
   ]
  },
  {
   "cell_type": "code",
   "execution_count": null,
   "metadata": {
    "collapsed": true
   },
   "outputs": [],
   "source": []
  },
  {
   "cell_type": "code",
   "execution_count": null,
   "metadata": {
    "collapsed": true
   },
   "outputs": [],
   "source": []
  }
 ],
 "metadata": {
  "anaconda-cloud": {},
  "kernelspec": {
   "display_name": "Python [Root]",
   "language": "python",
   "name": "Python [Root]"
  },
  "language_info": {
   "codemirror_mode": {
    "name": "ipython",
    "version": 3
   },
   "file_extension": ".py",
   "mimetype": "text/x-python",
   "name": "python",
   "nbconvert_exporter": "python",
   "pygments_lexer": "ipython3",
   "version": "3.5.1"
  }
 },
 "nbformat": 4,
 "nbformat_minor": 0
}
